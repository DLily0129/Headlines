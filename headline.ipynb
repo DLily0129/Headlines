{
 "cells": [
  {
   "cell_type": "markdown",
   "metadata": {
    "collapsed": true
   },
   "source": [
    "在有爬虫的基础下，我开始了Flask的学习，同时计算机网络这一基础课程也在同步跟进。\n",
    "先来介绍一下这个小小的项目实现了什么，它是一个简易版的今日头条，利用爬虫的知识，我找到了今日头条网站（“http://www.toutiao.com/”）里图片滚动显示的6条头条新闻，找到了它们的api，获取到了json格式的文件，里面包含了这6张图片的地址，新闻标题，以及超链接的地址，以便展示到自己的页面上。"
   ]
  },
  {
   "cell_type": "markdown",
   "metadata": {},
   "source": [
    "里面涉及到requests、json、time模块，包含了headlines.py、home.html、style.css这3个文件"
   ]
  },
  {
   "cell_type": "markdown",
   "metadata": {},
   "source": [
    "headlines.py文件里有思路以及注释，下面是"
   ]
  },
  {
   "cell_type": "code",
   "execution_count": null,
   "metadata": {},
   "outputs": [],
   "source": [
    "#home.html\n",
    "<link href=\"{{ url_for('static', filename='style.css', _external=True)}}\" rel=\"stylesheet\">\n"
   ]
  },
  {
   "cell_type": "markdown",
   "metadata": {},
   "source": [
    "链接到static文件夹下'style.css'样式文件"
   ]
  },
  {
   "cell_type": "code",
   "execution_count": null,
   "metadata": {},
   "outputs": [],
   "source": [
    "#home.html\n",
    "{% if city %}\n",
    "    <span> {{city}}</span>\n",
    "{% endif %}\n",
    "{% if time %}\n",
    "    <span> {{time.tm_year}}年{{time.tm_mon}}月{{time.tm_mday}}日</span>\n",
    "{% endif %}"
   ]
  },
  {
   "cell_type": "code",
   "execution_count": null,
   "metadata": {},
   "outputs": [],
   "source": [
    "#home.html\n",
    "{% for each_data in data_list %}\n",
    "<a target=\"_blank\" href=\"{{each_data.display_url}}\">\n",
    "            <img alt=\"\" src=\"{{each_data.image_url}}\" width=\"500\" height=\"300\"> </a>\n",
    "<p class=\"title\">{{each_data.title}}</p>\n",
    "{% endfor %}"
   ]
  },
  {
   "cell_type": "markdown",
   "metadata": {},
   "source": [
    "html模版文件中\n",
    "{%......%}表示控制语句\n",
    "{{.....}}表示变量\n",
    "{% for each_data in data_list %}中的“data_list”与render_template('home.html', data_list=data_list, city=city, time=local_time)的“data_list=data_list”相对应，_data_list为home函数处理得到的数据，所以可以理解为render_template函数将_data_list传递给html中的data_list，将真实数据替换上去后，最终形成用户看到的html文件"
   ]
  }
 ],
 "metadata": {
  "kernelspec": {
   "display_name": "Python 2",
   "language": "python",
   "name": "python2"
  },
  "language_info": {
   "codemirror_mode": {
    "name": "ipython",
    "version": 2.0
   },
   "file_extension": ".py",
   "mimetype": "text/x-python",
   "name": "python",
   "nbconvert_exporter": "python",
   "pygments_lexer": "ipython2",
   "version": "2.7.6"
  }
 },
 "nbformat": 4,
 "nbformat_minor": 0
}